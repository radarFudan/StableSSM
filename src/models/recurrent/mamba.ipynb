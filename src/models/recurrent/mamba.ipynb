{
 "cells": [
  {
   "cell_type": "code",
   "execution_count": 5,
   "metadata": {},
   "outputs": [],
   "source": [
    "import math\n",
    "\n",
    "import torch\n",
    "import torch.nn as nn\n",
    "import torch.nn.functional as F\n",
    "from einops import rearrange, repeat\n",
    "\n",
    "from mamba_ssm import Mamba\n"
   ]
  },
  {
   "cell_type": "code",
   "execution_count": 6,
   "metadata": {},
   "outputs": [],
   "source": [
    "batch, length, dim = 2, 64, 5\n",
    "x = torch.randn(batch, length, dim).to(\"cuda\")\n",
    "model = Mamba(\n",
    "    # This module uses roughly 3 * expand * d_model^2 parameters\n",
    "    d_model=dim, # Model dimension d_model\n",
    "    d_state=11,  # SSM state expansion factor\n",
    "    d_conv=3,    # Local convolution width\n",
    "    expand=7,    # Block expansion factor\n",
    ").to(\"cuda\")\n",
    "y = model(x)\n",
    "assert y.shape == x.shape"
   ]
  },
  {
   "cell_type": "code",
   "execution_count": 7,
   "metadata": {},
   "outputs": [
    {
     "data": {
      "text/plain": [
       "Mamba(\n",
       "  (in_proj): Linear(in_features=5, out_features=70, bias=False)\n",
       "  (conv1d): Conv1d(35, 35, kernel_size=(3,), stride=(1,), padding=(2,), groups=35)\n",
       "  (act): SiLU()\n",
       "  (x_proj): Linear(in_features=35, out_features=23, bias=False)\n",
       "  (dt_proj): Linear(in_features=1, out_features=35, bias=True)\n",
       "  (out_proj): Linear(in_features=35, out_features=5, bias=False)\n",
       ")"
      ]
     },
     "execution_count": 7,
     "metadata": {},
     "output_type": "execute_result"
    }
   ],
   "source": [
    "model\n",
    "# Mamba(\n",
    "#   (in_proj): Linear(in_features=5, out_features=70, bias=False)\n",
    "#   (conv1d): Conv1d(35, 35, kernel_size=(3,), stride=(1,), padding=(2,), groups=35)\n",
    "#   (act): SiLU()\n",
    "#   (x_proj): Linear(in_features=35, out_features=23, bias=False)\n",
    "#   (dt_proj): Linear(in_features=1, out_features=35, bias=True)\n",
    "#   (out_proj): Linear(in_features=35, out_features=5, bias=False)\n",
    "# )"
   ]
  },
  {
   "cell_type": "code",
   "execution_count": 8,
   "metadata": {},
   "outputs": [
    {
     "name": "stdout",
     "output_type": "stream",
     "text": [
      "A_log torch.Size([35, 11])\n",
      "D torch.Size([35])\n",
      "in_proj.weight torch.Size([70, 5])\n",
      "conv1d.weight torch.Size([35, 1, 3])\n",
      "conv1d.bias torch.Size([35])\n",
      "x_proj.weight torch.Size([23, 35])\n",
      "dt_proj.weight torch.Size([35, 1])\n",
      "dt_proj.bias torch.Size([35])\n",
      "out_proj.weight torch.Size([5, 35])\n"
     ]
    }
   ],
   "source": [
    "# I want to get the parameter shape for different layers inside model\n",
    "for name, param in model.named_parameters():\n",
    "    print(name, param.shape)\n",
    "\n",
    "# A_log torch.Size([35, 11])\n",
    "# D torch.Size([35])\n",
    "# in_proj.weight torch.Size([70, 5])\n",
    "# conv1d.weight torch.Size([35, 1, 3])\n",
    "# conv1d.bias torch.Size([35])\n",
    "# x_proj.weight torch.Size([23, 35])\n",
    "# dt_proj.weight torch.Size([35, 1])\n",
    "# dt_proj.bias torch.Size([35])\n",
    "# out_proj.weight torch.Size([5, 35])"
   ]
  },
  {
   "cell_type": "code",
   "execution_count": null,
   "metadata": {},
   "outputs": [],
   "source": []
  }
 ],
 "metadata": {
  "kernelspec": {
   "display_name": "lh",
   "language": "python",
   "name": "python3"
  },
  "language_info": {
   "codemirror_mode": {
    "name": "ipython",
    "version": 3
   },
   "file_extension": ".py",
   "mimetype": "text/x-python",
   "name": "python",
   "nbconvert_exporter": "python",
   "pygments_lexer": "ipython3",
   "version": "3.11.6"
  }
 },
 "nbformat": 4,
 "nbformat_minor": 2
}
